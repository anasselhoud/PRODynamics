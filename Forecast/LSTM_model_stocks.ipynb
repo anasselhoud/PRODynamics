{
 "cells": [
  {
   "cell_type": "markdown",
   "metadata": {},
   "source": [
    "<p>\n",
    "Prepared by Vytautas Bielinskas. 2020. <br>\n",
    "Download data from: https://finance.yahoo.com/quote/GOOG/history/\n",
    "</p>\n",
    "\n",
    "<h2>PART 1. Data Pre-processing</h2>"
   ]
  },
  {
   "cell_type": "markdown",
   "metadata": {},
   "source": [
    "<h3>Step #0. Fire the system</h3>"
   ]
  },
  {
   "cell_type": "code",
   "execution_count": 1,
   "metadata": {
    "tags": []
   },
   "outputs": [
    {
     "name": "stderr",
     "output_type": "stream",
     "text": [
      "C:\\Users\\dagherjo\\AppData\\Local\\Temp\\ipykernel_6164\\1274788405.py:3: DeprecationWarning: \n",
      "Pyarrow will become a required dependency of pandas in the next major release of pandas (pandas 3.0),\n",
      "(to allow more performant data types, such as the Arrow string type, and better interoperability with other libraries)\n",
      "but was not found to be installed on your system.\n",
      "If this would cause problems for you,\n",
      "please provide us feedback at https://github.com/pandas-dev/pandas/issues/54466\n",
      "        \n",
      "  import pandas as pd\n"
     ]
    },
    {
     "name": "stdout",
     "output_type": "stream",
     "text": [
      "WARNING:tensorflow:From c:\\Users\\dagherjo\\AppData\\Local\\anaconda3\\envs\\testForecast\\lib\\site-packages\\keras\\src\\losses.py:2976: The name tf.losses.sparse_softmax_cross_entropy is deprecated. Please use tf.compat.v1.losses.sparse_softmax_cross_entropy instead.\n",
      "\n"
     ]
    }
   ],
   "source": [
    "# Import modules and packages\n",
    "import numpy as np\n",
    "import pandas as pd\n",
    "import matplotlib.pyplot as plt\n",
    "import datetime as dt\n",
    "from datetime import datetime\n",
    "\n",
    "from keras.callbacks import EarlyStopping, ReduceLROnPlateau, ModelCheckpoint, TensorBoard\n",
    "\n",
    "%matplotlib inline"
   ]
  },
  {
   "cell_type": "markdown",
   "metadata": {},
   "source": [
    "<h3>Step #1. Read data</h3>"
   ]
  },
  {
   "cell_type": "code",
   "execution_count": 2,
   "metadata": {
    "tags": []
   },
   "outputs": [
    {
     "name": "stdout",
     "output_type": "stream",
     "text": [
      "Training set shape == (250, 7)\n",
      "All timestamps == 250\n",
      "Featured selected: ['Open', 'High', 'Low', 'Close', 'Adj Close']\n"
     ]
    }
   ],
   "source": [
    "# Importing Training Set\n",
    "dataset_train = pd.read_csv('GOOG.csv')\n",
    "\n",
    "# Select features (columns) to be involved intro training and predictions\n",
    "cols = list(dataset_train)[1:6]\n",
    "\n",
    "# Extract dates (will be used in visualization)\n",
    "datelist_train = list(dataset_train['Date'])\n",
    "datelist_train = [dt.datetime.strptime(date, '%Y-%m-%d').date() for date in datelist_train]\n",
    "\n",
    "print('Training set shape == {}'.format(dataset_train.shape))\n",
    "print('All timestamps == {}'.format(len(datelist_train)))\n",
    "print('Featured selected: {}'.format(cols))"
   ]
  },
  {
   "cell_type": "markdown",
   "metadata": {},
   "source": [
    "<h3>Step #2. Data pre-processing</h3>\n",
    "<p>\n",
    "Removing all commas and convert data to matrix shape format.\n",
    "</p>"
   ]
  },
  {
   "cell_type": "code",
   "execution_count": 3,
   "metadata": {
    "tags": []
   },
   "outputs": [
    {
     "name": "stdout",
     "output_type": "stream",
     "text": [
      "Shape of training set == (250, 5).\n",
      "[[102.684998 104.699997 102.209999 103.470001 103.470001]\n",
      " [103.629997 108.669998 103.547997 108.040001 108.040001]\n",
      " [102.690002 103.580002  98.455002 100.       100.      ]\n",
      " ...\n",
      " [145.389999 145.589996 141.550003 141.800003 141.800003]\n",
      " [143.690002 144.619995 142.259995 142.710007 142.710007]\n",
      " [140.889999 143.880005 138.169998 143.539993 143.539993]]\n"
     ]
    },
    {
     "name": "stderr",
     "output_type": "stream",
     "text": [
      "C:\\Users\\dagherjo\\AppData\\Local\\Temp\\ipykernel_6164\\1175077174.py:6: FutureWarning: ChainedAssignmentError: behaviour will change in pandas 3.0!\n",
      "You are setting values through chained assignment. Currently this works in certain cases, but when using Copy-on-Write (which will become the default behaviour in pandas 3.0) this will never work to update the original DataFrame or Series, because the intermediate object on which we are setting values will behave as a copy.\n",
      "A typical example is when you are setting values in a column of a DataFrame, like:\n",
      "\n",
      "df[\"col\"][row_indexer] = value\n",
      "\n",
      "Use `df.loc[row_indexer, \"col\"] = values` instead, to perform the assignment in a single step and ensure this keeps updating the original `df`.\n",
      "\n",
      "See the caveats in the documentation: https://pandas.pydata.org/pandas-docs/stable/user_guide/indexing.html#returning-a-view-versus-a-copy\n",
      "\n",
      "  dataset_train[i][j] = dataset_train[i][j].replace(',', '')\n"
     ]
    }
   ],
   "source": [
    "# Assuming dataset_train is a DataFrame\n",
    "dataset_train = dataset_train[cols].astype(str)\n",
    "\n",
    "for i in cols:\n",
    "    for j in range(0, len(dataset_train)):\n",
    "        dataset_train[i][j] = dataset_train[i][j].replace(',', '')\n",
    "\n",
    "dataset_train = dataset_train.astype(float)\n",
    "\n",
    "# Using multiple features (predictors)\n",
    "training_set = dataset_train.values  # Use .values instead of .as_matrix()\n",
    "\n",
    "print('Shape of training set == {}.'.format(training_set.shape))\n",
    "print(training_set)\n"
   ]
  },
  {
   "cell_type": "code",
   "execution_count": 4,
   "metadata": {
    "tags": []
   },
   "outputs": [
    {
     "data": {
      "text/plain": [
       "array([[-1.338118  ],\n",
       "       [-1.27868767],\n",
       "       [-1.3378033 ],\n",
       "       [-1.47301537],\n",
       "       [-1.77488422],\n",
       "       [-1.82079316],\n",
       "       [-1.84280429],\n",
       "       [-1.83777352],\n",
       "       [-1.78746189],\n",
       "       [-1.81701993],\n",
       "       [-1.93210748],\n",
       "       [-2.01424091],\n",
       "       [-2.00191467],\n",
       "       [-2.15913793],\n",
       "       [-2.13020891],\n",
       "       [-2.16479772],\n",
       "       [-2.12580616],\n",
       "       [-2.14467314],\n",
       "       [-1.96355213],\n",
       "       [-1.86167127],\n",
       "       [-1.7950088 ],\n",
       "       [-1.85884138],\n",
       "       [-1.85349585],\n",
       "       [-1.97864544],\n",
       "       [-2.10033612],\n",
       "       [-1.94279854],\n",
       "       [-1.9132405 ],\n",
       "       [-1.72268597],\n",
       "       [-1.45414889],\n",
       "       [-1.44031312],\n",
       "       [-1.38245465],\n",
       "       [-1.1837247 ],\n",
       "       [-1.13655772],\n",
       "       [-1.14599118],\n",
       "       [-1.17240456],\n",
       "       [-1.31830774],\n",
       "       [-1.33591669],\n",
       "       [-1.41641493],\n",
       "       [-1.39943501],\n",
       "       [-1.33906134],\n",
       "       [-1.20259168],\n",
       "       [-1.12209293],\n",
       "       [-1.14410456],\n",
       "       [-1.04222376],\n",
       "       [-1.0717818 ],\n",
       "       [-1.04222376],\n",
       "       [-1.10008179],\n",
       "       [-1.02335678],\n",
       "       [-1.16548673],\n",
       "       [-1.06675053],\n",
       "       [-1.24189749],\n",
       "       [-1.21454027],\n",
       "       [-1.12398004],\n",
       "       [-1.12649518],\n",
       "       [-1.09127729],\n",
       "       [-1.15731125],\n",
       "       [-1.17806441],\n",
       "       [-1.01643889],\n",
       "       [-1.02147016],\n",
       "       [-1.02524333],\n",
       "       [-1.11580412],\n",
       "       [-1.11957729],\n",
       "       [-1.17240456],\n",
       "       [-1.14253226],\n",
       "       [-0.95480763],\n",
       "       [-0.96927192],\n",
       "       [-0.50955123],\n",
       "       [-0.43785748],\n",
       "       [-0.46993115],\n",
       "       [-0.44854854],\n",
       "       [-0.2378695 ],\n",
       "       [-0.15108238],\n",
       "       [ 0.01494532],\n",
       "       [-0.02844799],\n",
       "       [ 0.0608547 ],\n",
       "       [-0.13095787],\n",
       "       [ 0.07846364],\n",
       "       [ 0.00645558],\n",
       "       [ 0.14638422],\n",
       "       [-0.01649933],\n",
       "       [-0.02907701],\n",
       "       [ 0.03318328],\n",
       "       [ 0.04073018],\n",
       "       [ 0.16587971],\n",
       "       [ 0.22719672],\n",
       "       [-0.08662078],\n",
       "       [-0.08819308],\n",
       "       [-0.03568057],\n",
       "       [ 0.10613512],\n",
       "       [-0.01021003],\n",
       "       [-0.00517926],\n",
       "       [ 0.17216858],\n",
       "       [-0.02687563],\n",
       "       [-0.04574261],\n",
       "       [-0.20768238],\n",
       "       [-0.12089533],\n",
       "       [-0.15699366],\n",
       "       [-0.38503072],\n",
       "       [-0.37748381],\n",
       "       [-0.24352979],\n",
       "       [-0.18001146],\n",
       "       [-0.22906499],\n",
       "       [-0.24541634],\n",
       "       [-0.20894048],\n",
       "       [-0.19321815],\n",
       "       [-0.30767662],\n",
       "       [-0.45295079],\n",
       "       [-0.2932119 ],\n",
       "       [-0.15233998],\n",
       "       [ 0.07343237],\n",
       "       [ 0.13191949],\n",
       "       [ 0.0592824 ],\n",
       "       [ 0.05205026],\n",
       "       [-0.11586406],\n",
       "       [-0.19447569],\n",
       "       [-0.12806458],\n",
       "       [-0.13095787],\n",
       "       [ 0.40234368],\n",
       "       [ 0.49290441],\n",
       "       [ 0.44070616],\n",
       "       [ 0.56899996],\n",
       "       [ 0.43347358],\n",
       "       [ 0.36964093],\n",
       "       [ 0.27719359],\n",
       "       [ 0.35454813],\n",
       "       [ 0.3488874 ],\n",
       "       [ 0.44133474],\n",
       "       [ 0.51743117],\n",
       "       [ 0.50359546],\n",
       "       [ 0.32951756],\n",
       "       [ 0.37027045],\n",
       "       [ 0.47969721],\n",
       "       [ 0.33442311],\n",
       "       [ 0.40800347],\n",
       "       [ 0.3205874 ],\n",
       "       [ 0.24449134],\n",
       "       [ 0.32499009],\n",
       "       [ 0.43315976],\n",
       "       [ 0.67698153],\n",
       "       [ 0.38850791],\n",
       "       [ 0.51051335],\n",
       "       [ 0.56824567],\n",
       "       [ 0.72999734],\n",
       "       [ 0.82307326],\n",
       "       [ 0.90985987],\n",
       "       [ 0.78471072],\n",
       "       [ 0.82087188],\n",
       "       [ 0.66899465],\n",
       "       [ 0.74886337],\n",
       "       [ 0.84382685],\n",
       "       [ 0.82810453],\n",
       "       [ 0.75074999],\n",
       "       [ 0.90734467],\n",
       "       [ 0.93312954],\n",
       "       [ 0.85954918],\n",
       "       [ 0.89854023],\n",
       "       [ 0.93501615],\n",
       "       [ 0.53000885],\n",
       "       [ 0.48535706],\n",
       "       [ 0.42812849],\n",
       "       [ 0.43718436],\n",
       "       [ 0.34448559],\n",
       "       [ 0.42309722],\n",
       "       [ 0.63629196],\n",
       "       [ 0.51522986],\n",
       "       [ 0.6897473 ],\n",
       "       [ 0.60987858],\n",
       "       [ 0.76521522],\n",
       "       [ 0.69037676],\n",
       "       [ 0.88218933],\n",
       "       [ 0.97778044],\n",
       "       [ 0.9991635 ],\n",
       "       [ 1.14443766],\n",
       "       [ 1.04947419],\n",
       "       [ 0.99161615],\n",
       "       [ 1.01048313],\n",
       "       [ 1.05576349],\n",
       "       [ 0.99601884],\n",
       "       [ 0.91992234],\n",
       "       [ 0.77150359],\n",
       "       [ 0.95576975],\n",
       "       [ 0.36523918],\n",
       "       [ 0.03192568],\n",
       "       [ 0.00425426],\n",
       "       [ 0.03129666],\n",
       "       [ 0.14512618],\n",
       "       [ 0.08663906],\n",
       "       [ 0.35203205],\n",
       "       [ 0.32247395],\n",
       "       [ 0.39353918],\n",
       "       [ 0.50422404],\n",
       "       [ 0.52812229],\n",
       "       [ 0.5910116 ],\n",
       "       [ 0.47592404],\n",
       "       [ 0.5910116 ],\n",
       "       [ 0.73502766],\n",
       "       [ 0.79728839],\n",
       "       [ 0.81741347],\n",
       "       [ 0.87149827],\n",
       "       [ 0.72559465],\n",
       "       [ 0.87904467],\n",
       "       [ 0.95199652],\n",
       "       [ 0.97966699],\n",
       "       [ 0.85577595],\n",
       "       [ 0.85954918],\n",
       "       [ 0.94476393],\n",
       "       [ 0.78219464],\n",
       "       [ 0.5884964 ],\n",
       "       [ 0.46108261],\n",
       "       [ 0.4029722 ],\n",
       "       [ 0.56208208],\n",
       "       [ 0.79477326],\n",
       "       [ 0.73565719],\n",
       "       [ 0.61994105],\n",
       "       [ 0.58535175],\n",
       "       [ 0.66553523],\n",
       "       [ 0.6796857 ],\n",
       "       [ 0.56334011],\n",
       "       [ 0.62245625],\n",
       "       [ 0.88281791],\n",
       "       [ 1.02935011],\n",
       "       [ 1.05702153],\n",
       "       [ 1.14255105],\n",
       "       [ 1.19600639],\n",
       "       [ 1.18657337],\n",
       "       [ 1.1249421 ],\n",
       "       [ 1.0513608 ],\n",
       "       [ 0.98344117],\n",
       "       [ 0.92055187],\n",
       "       [ 0.9991635 ],\n",
       "       [ 0.90495526],\n",
       "       [ 0.88281791],\n",
       "       [ 1.01236975],\n",
       "       [ 1.16707781],\n",
       "       [ 1.31643991],\n",
       "       [ 1.28153584],\n",
       "       [ 1.22430639],\n",
       "       [ 1.19160464],\n",
       "       [ 1.22493585],\n",
       "       [ 1.40511314],\n",
       "       [ 1.5563628 ],\n",
       "       [ 1.49410201],\n",
       "       [ 1.65572702],\n",
       "       [ 1.74691726],\n",
       "       [ 1.81798155],\n",
       "       [ 1.86640656],\n",
       "       [ 1.88967535],\n",
       "       [ 1.3475698 ],\n",
       "       [ 1.24065817],\n",
       "       [ 1.06456793]])"
      ]
     },
     "execution_count": 4,
     "metadata": {},
     "output_type": "execute_result"
    }
   ],
   "source": [
    "# Feature Scaling\n",
    "from sklearn.preprocessing import StandardScaler\n",
    "\n",
    "sc = StandardScaler()\n",
    "training_set_scaled = sc.fit_transform(training_set)\n",
    "\n",
    "sc_predict = StandardScaler()\n",
    "sc_predict.fit_transform(training_set[:, 0:1])"
   ]
  },
  {
   "cell_type": "code",
   "execution_count": 5,
   "metadata": {
    "tags": []
   },
   "outputs": [
    {
     "name": "stdout",
     "output_type": "stream",
     "text": [
      "X_train shape == (101, 90, 4).\n",
      "y_train shape == (101, 1).\n"
     ]
    }
   ],
   "source": [
    "# Creating a data structure with 90 timestamps and 1 output\n",
    "X_train = []\n",
    "y_train = []\n",
    "\n",
    "n_future = 60   # Number of days we want top predict into the future\n",
    "n_past = 90     # Number of past days we want to use to predict the future\n",
    "\n",
    "for i in range(n_past, len(training_set_scaled) - n_future +1):\n",
    "    X_train.append(training_set_scaled[i - n_past:i, 0:dataset_train.shape[1] - 1])\n",
    "    y_train.append(training_set_scaled[i + n_future - 1:i + n_future, 0])\n",
    "\n",
    "X_train, y_train = np.array(X_train), np.array(y_train)\n",
    "\n",
    "print('X_train shape == {}.'.format(X_train.shape))\n",
    "print('y_train shape == {}.'.format(y_train.shape))"
   ]
  },
  {
   "cell_type": "markdown",
   "metadata": {},
   "source": [
    "<h2>PART 2. Create a model. Training</h2>"
   ]
  },
  {
   "cell_type": "markdown",
   "metadata": {},
   "source": [
    "<h3>Step #3. Building the LSTM based Neural Network</h3>"
   ]
  },
  {
   "cell_type": "code",
   "execution_count": 6,
   "metadata": {},
   "outputs": [],
   "source": [
    "# Import Libraries and packages from Keras\n",
    "from keras.models import Sequential\n",
    "from keras.layers import Dense\n",
    "from keras.layers import LSTM\n",
    "from keras.layers import Dropout\n",
    "from keras.optimizers import Adam"
   ]
  },
  {
   "cell_type": "code",
   "execution_count": 7,
   "metadata": {
    "tags": []
   },
   "outputs": [
    {
     "name": "stdout",
     "output_type": "stream",
     "text": [
      "WARNING:tensorflow:From c:\\Users\\dagherjo\\AppData\\Local\\anaconda3\\envs\\testForecast\\lib\\site-packages\\keras\\src\\backend.py:873: The name tf.get_default_graph is deprecated. Please use tf.compat.v1.get_default_graph instead.\n",
      "\n"
     ]
    }
   ],
   "source": [
    "# Initializing the Neural Network based on LSTM\n",
    "model = Sequential()\n",
    "\n",
    "# Adding 1st LSTM layer\n",
    "model.add(LSTM(units=64, return_sequences=True, input_shape=(n_past, dataset_train.shape[1]-1)))\n",
    "\n",
    "# Adding 2nd LSTM layer\n",
    "model.add(LSTM(units=10, return_sequences=False))\n",
    "\n",
    "# Adding Dropout\n",
    "model.add(Dropout(0.25))\n",
    "\n",
    "# Output layer\n",
    "model.add(Dense(units=1, activation='linear'))\n",
    "\n",
    "# Compiling the Neural Network\n",
    "model.compile(optimizer = Adam(learning_rate=0.01), loss='mean_squared_error')"
   ]
  },
  {
   "cell_type": "markdown",
   "metadata": {},
   "source": [
    "<h3>Step #4. Start training</h3>"
   ]
  },
  {
   "cell_type": "code",
   "execution_count": 8,
   "metadata": {
    "tags": []
   },
   "outputs": [
    {
     "name": "stdout",
     "output_type": "stream",
     "text": [
      "Epoch 1/30\n",
      "WARNING:tensorflow:From c:\\Users\\dagherjo\\AppData\\Local\\anaconda3\\envs\\testForecast\\lib\\site-packages\\keras\\src\\utils\\tf_utils.py:492: The name tf.ragged.RaggedTensorValue is deprecated. Please use tf.compat.v1.ragged.RaggedTensorValue instead.\n",
      "\n",
      "1/1 [==============================] - ETA: 0s - loss: 0.5277\n",
      "Epoch 1: val_loss improved from inf to 0.16234, saving model to weights.h5\n",
      "1/1 [==============================] - 3s 3s/step - loss: 0.5277 - val_loss: 0.1623 - lr: 0.0100\n",
      "Epoch 2/30\n",
      "1/1 [==============================] - ETA: 0s - loss: 0.3635\n",
      "Epoch 2: val_loss did not improve from 0.16234\n",
      "1/1 [==============================] - 0s 76ms/step - loss: 0.3635 - val_loss: 0.4376 - lr: 0.0100\n",
      "Epoch 3/30\n",
      "1/1 [==============================] - ETA: 0s - loss: 0.3124\n",
      "Epoch 3: val_loss did not improve from 0.16234\n",
      "1/1 [==============================] - 0s 72ms/step - loss: 0.3124 - val_loss: 0.6077 - lr: 0.0100\n",
      "Epoch 4/30\n",
      "1/1 [==============================] - ETA: 0s - loss: 0.2311\n",
      "Epoch 4: val_loss did not improve from 0.16234\n",
      "1/1 [==============================] - 0s 73ms/step - loss: 0.2311 - val_loss: 0.5578 - lr: 0.0100\n",
      "Epoch 5/30\n",
      "1/1 [==============================] - ETA: 0s - loss: 0.1671\n",
      "Epoch 5: val_loss did not improve from 0.16234\n",
      "1/1 [==============================] - 0s 74ms/step - loss: 0.1671 - val_loss: 0.4422 - lr: 0.0100\n",
      "Epoch 6/30\n",
      "1/1 [==============================] - ETA: 0s - loss: 0.1160\n",
      "Epoch 6: val_loss did not improve from 0.16234\n",
      "1/1 [==============================] - 0s 72ms/step - loss: 0.1160 - val_loss: 0.3875 - lr: 0.0100\n",
      "Epoch 7/30\n",
      "1/1 [==============================] - ETA: 0s - loss: 0.1448\n",
      "Epoch 7: val_loss did not improve from 0.16234\n",
      "1/1 [==============================] - 0s 72ms/step - loss: 0.1448 - val_loss: 0.4474 - lr: 0.0100\n",
      "Epoch 8/30\n",
      "1/1 [==============================] - ETA: 0s - loss: 0.1150\n",
      "Epoch 8: val_loss did not improve from 0.16234\n",
      "1/1 [==============================] - 0s 72ms/step - loss: 0.1150 - val_loss: 0.5318 - lr: 0.0100\n",
      "Epoch 9/30\n",
      "1/1 [==============================] - ETA: 0s - loss: 0.0999\n",
      "Epoch 9: val_loss did not improve from 0.16234\n",
      "1/1 [==============================] - 0s 70ms/step - loss: 0.0999 - val_loss: 0.5514 - lr: 0.0100\n",
      "Epoch 10/30\n",
      "1/1 [==============================] - ETA: 0s - loss: 0.1061\n",
      "Epoch 10: val_loss did not improve from 0.16234\n",
      "1/1 [==============================] - 0s 73ms/step - loss: 0.1061 - val_loss: 0.5124 - lr: 0.0100\n",
      "Epoch 11/30\n",
      "1/1 [==============================] - ETA: 0s - loss: 0.1056\n",
      "Epoch 11: ReduceLROnPlateau reducing learning rate to 0.004999999888241291.\n",
      "\n",
      "Epoch 11: val_loss did not improve from 0.16234\n",
      "1/1 [==============================] - 0s 74ms/step - loss: 0.1056 - val_loss: 0.4485 - lr: 0.0100\n",
      "Epoch 11: early stopping\n",
      "CPU times: total: 4.3 s\n",
      "Wall time: 3.4 s\n"
     ]
    }
   ],
   "source": [
    "%%time\n",
    "es = EarlyStopping(monitor='val_loss', min_delta=1e-10, patience=10, verbose=1)\n",
    "rlr = ReduceLROnPlateau(monitor='val_loss', factor=0.5, patience=10, verbose=1)\n",
    "mcp = ModelCheckpoint(filepath='weights.h5', monitor='val_loss', verbose=1, save_best_only=True, save_weights_only=True)\n",
    "\n",
    "tb = TensorBoard('logs')\n",
    "\n",
    "history = model.fit(X_train, y_train, shuffle=True, epochs=30, callbacks=[es, rlr, mcp, tb], validation_split=0.2, verbose=1, batch_size=256)"
   ]
  },
  {
   "cell_type": "markdown",
   "metadata": {},
   "source": [
    "<p>\n",
    "Notes:<br>\n",
    "<ul>\n",
    "<li><b>EarlyStopping</b> - Stop training when a monitored metric has stopped improving.</li>\n",
    "<li><code>monitor</code> - quantity to be monitored.</li>\n",
    "<li><code>min_delta</code> - minimum change in the monitored quantity to qualify as an improvement, i.e. an absolute change of less than <code>min_delta</code>, will count as no improvement.</li>\n",
    "<li><code>patience</code> - number of epochs with no improvement after which training will be stopped.</li>\n",
    "</ul>\n",
    "\n",
    "<ul>\n",
    "<li><b>ReduceLROnPlateau</b> - Reduce learning rate when a metric has stopped improving.</li>\n",
    "<li><code>factor</code> - factor by which the learning rate will be reduced. <code>new_lr = lr * factor</code>.</li>\n",
    "</ul>\n",
    "</p>\n",
    "\n",
    "<hr>\n",
    "\n",
    "<p>\n",
    "The last date for our training set is <code>30-Dec-2016</code>.<br>\n",
    "</p>\n",
    "\n",
    "<p>\n",
    "We will perform predictions for the next <b>20</b> days, since <b>2017-01-01</b> to <b>2017-01-20</b>.\n",
    "</p>"
   ]
  },
  {
   "cell_type": "markdown",
   "metadata": {},
   "source": [
    "<h2>PART 3. Make future predictions</h2>"
   ]
  },
  {
   "cell_type": "code",
   "execution_count": 9,
   "metadata": {},
   "outputs": [],
   "source": [
    "# Generate list of sequence of days for predictions\n",
    "datelist_future = pd.date_range(datelist_train[-1], periods=n_future, freq='1d').tolist()\n",
    "\n",
    "'''\n",
    "Remeber, we have datelist_train from begining.\n",
    "'''\n",
    "\n",
    "# Convert Pandas Timestamp to Datetime object (for transformation) --> FUTURE\n",
    "datelist_future_ = []\n",
    "for this_timestamp in datelist_future:\n",
    "    datelist_future_.append(this_timestamp.date())"
   ]
  },
  {
   "cell_type": "markdown",
   "metadata": {},
   "source": [
    "<h3>Step #5. Make predictions for future dates</h3>"
   ]
  },
  {
   "cell_type": "code",
   "execution_count": 10,
   "metadata": {
    "tags": []
   },
   "outputs": [
    {
     "name": "stdout",
     "output_type": "stream",
     "text": [
      "2/2 [==============================] - 0s 8ms/step\n",
      "1/1 [==============================] - 0s 19ms/step\n"
     ]
    }
   ],
   "source": [
    "# Perform predictions\n",
    "predictions_future = model.predict(X_train[-n_future:])\n",
    "\n",
    "predictions_train = model.predict(X_train[n_past:])"
   ]
  },
  {
   "cell_type": "code",
   "execution_count": 11,
   "metadata": {
    "tags": []
   },
   "outputs": [
    {
     "data": {
      "text/html": [
       "<div>\n",
       "<style scoped>\n",
       "    .dataframe tbody tr th:only-of-type {\n",
       "        vertical-align: middle;\n",
       "    }\n",
       "\n",
       "    .dataframe tbody tr th {\n",
       "        vertical-align: top;\n",
       "    }\n",
       "\n",
       "    .dataframe thead th {\n",
       "        text-align: right;\n",
       "    }\n",
       "</style>\n",
       "<table border=\"1\" class=\"dataframe\">\n",
       "  <thead>\n",
       "    <tr style=\"text-align: right;\">\n",
       "      <th></th>\n",
       "      <th>Open</th>\n",
       "    </tr>\n",
       "  </thead>\n",
       "  <tbody>\n",
       "    <tr>\n",
       "      <th>2024-01-19</th>\n",
       "      <td>135.879990</td>\n",
       "    </tr>\n",
       "    <tr>\n",
       "      <th>2024-01-22</th>\n",
       "      <td>135.873062</td>\n",
       "    </tr>\n",
       "    <tr>\n",
       "      <th>2024-01-23</th>\n",
       "      <td>136.022873</td>\n",
       "    </tr>\n",
       "  </tbody>\n",
       "</table>\n",
       "</div>"
      ],
      "text/plain": [
       "                  Open\n",
       "2024-01-19  135.879990\n",
       "2024-01-22  135.873062\n",
       "2024-01-23  136.022873"
      ]
     },
     "execution_count": 11,
     "metadata": {},
     "output_type": "execute_result"
    }
   ],
   "source": [
    "# Inverse the predictions to original measurements\n",
    "\n",
    "# ---> Special function: convert <datetime.date> to <Timestamp>\n",
    "def datetime_to_timestamp(x):\n",
    "    '''\n",
    "        x : a given datetime value (datetime.date)\n",
    "    '''\n",
    "    return datetime.strptime(x.strftime('%Y%m%d'), '%Y%m%d')\n",
    "\n",
    "\n",
    "y_pred_future = sc_predict.inverse_transform(predictions_future)\n",
    "y_pred_train = sc_predict.inverse_transform(predictions_train)\n",
    "\n",
    "PREDICTIONS_FUTURE = pd.DataFrame(y_pred_future, columns=['Open']).set_index(pd.Series(datelist_future))\n",
    "PREDICTION_TRAIN = pd.DataFrame(y_pred_train, columns=['Open']).set_index(pd.Series(datelist_train[2 * n_past + n_future -1:]))\n",
    "\n",
    "# Convert <datetime.date> to <Timestamp> for PREDCITION_TRAIN\n",
    "PREDICTION_TRAIN.index = PREDICTION_TRAIN.index.to_series().apply(datetime_to_timestamp)\n",
    "\n",
    "PREDICTION_TRAIN.head(3)"
   ]
  },
  {
   "cell_type": "markdown",
   "metadata": {},
   "source": [
    "<h3>Step #6. Visualize the Predictions</h3>"
   ]
  },
  {
   "cell_type": "code",
   "execution_count": 20,
   "metadata": {},
   "outputs": [
    {
     "data": {
      "image/png": "[encoded data removed]",
      "text/plain": [
       "<Figure size 1400x500 with 1 Axes>"
      ]
     },
     "metadata": {},
     "output_type": "display_data"
    }
   ],
   "source": [
    "# Set plot size \n",
    "from pylab import rcParams\n",
    "rcParams['figure.figsize'] = 14, 5\n",
    "\n",
    "# Plot parameters\n",
    "START_DATE_FOR_PLOTTING = '2019-06-01'\n",
    "\n",
    "plt.plot(PREDICTIONS_FUTURE.index, PREDICTIONS_FUTURE['Open'], color='r', label='Predicted Stock Price')\n",
    "plt.plot(PREDICTION_TRAIN.loc[START_DATE_FOR_PLOTTING:].index, PREDICTION_TRAIN.loc[START_DATE_FOR_PLOTTING:]['Open'], color='orange', label='Training predictions')\n",
    "plt.plot(dataset_train.loc[START_DATE_FOR_PLOTTING:].index, dataset_train.loc[START_DATE_FOR_PLOTTING:]['Open'], color='b', label='Actual Stock Price')\n",
    "\n",
    "plt.axvline(x = min(PREDICTIONS_FUTURE.index), color='green', linewidth=2, linestyle='--')\n",
    "\n",
    "plt.grid(which='major', color='#cccccc', alpha=0.5)\n",
    "\n",
    "plt.legend(shadow=True)\n",
    "plt.title('Predcitions and Acutal Stock Prices', family='Arial', fontsize=12)\n",
    "plt.xlabel('Timeline', family='Arial', fontsize=10)\n",
    "plt.ylabel('Stock Price Value', family='Arial', fontsize=10)\n",
    "plt.xticks(rotation=45, fontsize=8)\n",
    "plt.show()"
   ]
  },
  {
   "cell_type": "code",
   "execution_count": null,
   "metadata": {},
   "outputs": [],
   "source": []
  },
  {
   "cell_type": "code",
   "execution_count": 13,
   "metadata": {
    "tags": []
   },
   "outputs": [],
   "source": [
    "# Parse training set timestamp for better visualization\n",
    "dataset_train = pd.DataFrame(dataset_train, columns=cols)\n",
    "dataset_train.index = datelist_train\n",
    "dataset_train.index = pd.to_datetime(dataset_train.index)"
   ]
  }
 ],
 "metadata": {
  "kernelspec": {
   "display_name": "testForecast",
   "language": "python",
   "name": "python3"
  },
  "language_info": {
   "codemirror_mode": {
    "name": "ipython",
    "version": 3
   },
   "file_extension": ".py",
   "mimetype": "text/x-python",
   "name": "python",
   "nbconvert_exporter": "python",
   "pygments_lexer": "ipython3",
   "version": "3.9.0"
  },
  "orig_nbformat": 2
 },
 "nbformat": 4,
 "nbformat_minor": 2
}
